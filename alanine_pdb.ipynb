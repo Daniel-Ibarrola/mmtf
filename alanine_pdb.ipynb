{
 "cells": [
  {
   "cell_type": "code",
   "execution_count": 9,
   "metadata": {
    "collapsed": true,
    "pycharm": {
     "name": "#%%\n"
    }
   },
   "outputs": [],
   "source": [
    "from rdkit import Chem\n",
    "from rdkit.Chem import AllChem\n",
    "import mdtraj as mdt\n",
    "import os"
   ]
  },
  {
   "cell_type": "code",
   "execution_count": 2,
   "outputs": [
    {
     "data": {
      "text/plain": "<rdkit.Chem.rdchem.Mol at 0x7fca01b5ab20>",
      "image/png": "[encoded data removed]"
     },
     "execution_count": 2,
     "metadata": {},
     "output_type": "execute_result"
    }
   ],
   "source": [
    "mol = Chem.MolFromSmiles(\"C[C@@H](C(=O)O)N\")\n",
    "mol"
   ],
   "metadata": {
    "collapsed": false,
    "pycharm": {
     "name": "#%%\n"
    }
   }
  },
  {
   "cell_type": "code",
   "execution_count": 3,
   "outputs": [],
   "source": [
    "mol = Chem.AddHs(mol)\n",
    "AllChem.EmbedMultipleConfs(mol, numConfs=1, randomSeed=1024)\n",
    "assert mol.GetNumConformers() == 1"
   ],
   "metadata": {
    "collapsed": false,
    "pycharm": {
     "name": "#%%\n"
    }
   }
  },
  {
   "cell_type": "code",
   "execution_count": 5,
   "outputs": [],
   "source": [
    "Chem.MolToPDBFile(mol, filename=\"./data/alanine.pdb\")"
   ],
   "metadata": {
    "collapsed": false,
    "pycharm": {
     "name": "#%%\n"
    }
   }
  },
  {
   "cell_type": "code",
   "execution_count": 13,
   "outputs": [
    {
     "name": "stdout",
     "output_type": "stream",
     "text": [
      "HETATM    1  C1  ALA     1      -1.424  -0.563  -0.002  1.00  0.00           C  \r\n",
      "HETATM    2  C2  ALA     1      -0.255   0.333   0.343  1.00  0.00           C  \r\n",
      "HETATM    3  C3  ALA     1       0.998  -0.463   0.479  1.00  0.00           C  \r\n",
      "HETATM    4  O1  ALA     1       1.010  -1.403   1.319  1.00  0.00           O  \r\n",
      "HETATM    5  O2  ALA     1       2.122  -0.179  -0.296  1.00  0.00           O  \r\n",
      "HETATM    6  N1  ALA     1      -0.109   1.357  -0.645  1.00  0.00           N  \r\n",
      "HETATM    7  H1  ALA     1      -2.241   0.015  -0.440  1.00  0.00           H  \r\n",
      "HETATM    8  H2  ALA     1      -1.762  -1.064   0.911  1.00  0.00           H  \r\n",
      "HETATM    9  H3  ALA     1      -1.101  -1.352  -0.737  1.00  0.00           H  \r\n",
      "HETATM   10  H4  ALA     1      -0.476   0.818   1.314  1.00  0.00           H  \r\n",
      "HETATM   11  H5  ALA     1       2.671  -0.989  -0.615  1.00  0.00           H  \r\n",
      "HETATM   12  H6  ALA     1       0.622   1.176  -1.359  1.00  0.00           H  \r\n",
      "HETATM   13  H7  ALA     1      -0.056   2.315  -0.273  1.00  0.00           H  \r\n",
      "CONECT    1    2    7    8    9\r\n",
      "CONECT    2    3    6   10\r\n",
      "CONECT    3    4    4    5\r\n",
      "CONECT    5   11\r\n",
      "CONECT    6   12   13\r\n",
      "END\r\n"
     ]
    }
   ],
   "source": [
    "!cat data/alanine.pdb"
   ],
   "metadata": {
    "collapsed": false,
    "pycharm": {
     "name": "#%%\n"
    }
   }
  },
  {
   "cell_type": "code",
   "execution_count": 10,
   "outputs": [],
   "source": [
    "# Substitute residue name UNL for ALA in alanine.pdb\n",
    "lines = []\n",
    "with open(\"data/alanine.pdb\", \"r\") as fp:\n",
    "    for line in fp:\n",
    "        lines.append(line.replace(\"UNL\", \"ALA\"))\n",
    "\n",
    "os.remove(\"data/alanine.pdb\")\n",
    "with open(\"data/alanine.pdb\", \"w\") as fp:\n",
    "    fp.writelines(lines)"
   ],
   "metadata": {
    "collapsed": false,
    "pycharm": {
     "name": "#%%\n"
    }
   }
  },
  {
   "cell_type": "code",
   "execution_count": 11,
   "outputs": [
    {
     "data": {
      "text/plain": "<mdtraj.Trajectory with 1 frames, 13 atoms, 1 residues, without unitcells at 0x7fca593c1050>"
     },
     "execution_count": 11,
     "metadata": {},
     "output_type": "execute_result"
    }
   ],
   "source": [
    "traj = mdt.load(\"./data/alanine.pdb\")\n",
    "traj"
   ],
   "metadata": {
    "collapsed": false,
    "pycharm": {
     "name": "#%%\n"
    }
   }
  },
  {
   "cell_type": "code",
   "execution_count": 12,
   "outputs": [
    {
     "data": {
      "text/plain": "    serial name element  resSeq resName  chainID segmentID\n0        1   C1       C       1     ALA        0          \n1        2   C2       C       1     ALA        0          \n2        3   C3       C       1     ALA        0          \n3        4    O       O       1     ALA        0          \n4        5  OXT       O       1     ALA        0          \n5        6   N1       N       1     ALA        0          \n6        7    H       H       1     ALA        0          \n7        8   H2       H       1     ALA        0          \n8        9   H3       H       1     ALA        0          \n9       10   H4       H       1     ALA        0          \n10      11   H5       H       1     ALA        0          \n11      12   H6       H       1     ALA        0          \n12      13   H7       H       1     ALA        0          ",
      "text/html": "<div>\n<style scoped>\n    .dataframe tbody tr th:only-of-type {\n        vertical-align: middle;\n    }\n\n    .dataframe tbody tr th {\n        vertical-align: top;\n    }\n\n    .dataframe thead th {\n        text-align: right;\n    }\n</style>\n<table border=\"1\" class=\"dataframe\">\n  <thead>\n    <tr style=\"text-align: right;\">\n      <th></th>\n      <th>serial</th>\n      <th>name</th>\n      <th>element</th>\n      <th>resSeq</th>\n      <th>resName</th>\n      <th>chainID</th>\n      <th>segmentID</th>\n    </tr>\n  </thead>\n  <tbody>\n    <tr>\n      <th>0</th>\n      <td>1</td>\n      <td>C1</td>\n      <td>C</td>\n      <td>1</td>\n      <td>ALA</td>\n      <td>0</td>\n      <td></td>\n    </tr>\n    <tr>\n      <th>1</th>\n      <td>2</td>\n      <td>C2</td>\n      <td>C</td>\n      <td>1</td>\n      <td>ALA</td>\n      <td>0</td>\n      <td></td>\n    </tr>\n    <tr>\n      <th>2</th>\n      <td>3</td>\n      <td>C3</td>\n      <td>C</td>\n      <td>1</td>\n      <td>ALA</td>\n      <td>0</td>\n      <td></td>\n    </tr>\n    <tr>\n      <th>3</th>\n      <td>4</td>\n      <td>O</td>\n      <td>O</td>\n      <td>1</td>\n      <td>ALA</td>\n      <td>0</td>\n      <td></td>\n    </tr>\n    <tr>\n      <th>4</th>\n      <td>5</td>\n      <td>OXT</td>\n      <td>O</td>\n      <td>1</td>\n      <td>ALA</td>\n      <td>0</td>\n      <td></td>\n    </tr>\n    <tr>\n      <th>5</th>\n      <td>6</td>\n      <td>N1</td>\n      <td>N</td>\n      <td>1</td>\n      <td>ALA</td>\n      <td>0</td>\n      <td></td>\n    </tr>\n    <tr>\n      <th>6</th>\n      <td>7</td>\n      <td>H</td>\n      <td>H</td>\n      <td>1</td>\n      <td>ALA</td>\n      <td>0</td>\n      <td></td>\n    </tr>\n    <tr>\n      <th>7</th>\n      <td>8</td>\n      <td>H2</td>\n      <td>H</td>\n      <td>1</td>\n      <td>ALA</td>\n      <td>0</td>\n      <td></td>\n    </tr>\n    <tr>\n      <th>8</th>\n      <td>9</td>\n      <td>H3</td>\n      <td>H</td>\n      <td>1</td>\n      <td>ALA</td>\n      <td>0</td>\n      <td></td>\n    </tr>\n    <tr>\n      <th>9</th>\n      <td>10</td>\n      <td>H4</td>\n      <td>H</td>\n      <td>1</td>\n      <td>ALA</td>\n      <td>0</td>\n      <td></td>\n    </tr>\n    <tr>\n      <th>10</th>\n      <td>11</td>\n      <td>H5</td>\n      <td>H</td>\n      <td>1</td>\n      <td>ALA</td>\n      <td>0</td>\n      <td></td>\n    </tr>\n    <tr>\n      <th>11</th>\n      <td>12</td>\n      <td>H6</td>\n      <td>H</td>\n      <td>1</td>\n      <td>ALA</td>\n      <td>0</td>\n      <td></td>\n    </tr>\n    <tr>\n      <th>12</th>\n      <td>13</td>\n      <td>H7</td>\n      <td>H</td>\n      <td>1</td>\n      <td>ALA</td>\n      <td>0</td>\n      <td></td>\n    </tr>\n  </tbody>\n</table>\n</div>"
     },
     "execution_count": 12,
     "metadata": {},
     "output_type": "execute_result"
    }
   ],
   "source": [
    "topology = traj.topology\n",
    "topology_df, bonds = topology.to_dataframe()\n",
    "topology_df"
   ],
   "metadata": {
    "collapsed": false,
    "pycharm": {
     "name": "#%%\n"
    }
   }
  }
 ],
 "metadata": {
  "kernelspec": {
   "display_name": "Python 3",
   "language": "python",
   "name": "python3"
  },
  "language_info": {
   "codemirror_mode": {
    "name": "ipython",
    "version": 2
   },
   "file_extension": ".py",
   "mimetype": "text/x-python",
   "name": "python",
   "nbconvert_exporter": "python",
   "pygments_lexer": "ipython2",
   "version": "2.7.6"
  }
 },
 "nbformat": 4,
 "nbformat_minor": 0
}