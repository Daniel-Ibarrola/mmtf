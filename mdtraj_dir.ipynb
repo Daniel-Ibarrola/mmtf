{
 "cells": [
  {
   "cell_type": "code",
   "execution_count": 2,
   "metadata": {
    "collapsed": true,
    "pycharm": {
     "name": "#%%\n"
    }
   },
   "outputs": [],
   "source": [
    "import mdtraj as mdt\n",
    "import pprint"
   ]
  },
  {
   "cell_type": "code",
   "execution_count": 5,
   "outputs": [],
   "source": [
    "def print_class_dir(class_instance):\n",
    "    \"\"\" Prints the dir of the given class but only the\n",
    "        public methods.\n",
    "    \"\"\"\n",
    "    public_method_list = [method for method in dir(class_instance) if not method.startswith(\"_\")]\n",
    "    pprint.pprint(public_method_list)"
   ],
   "metadata": {
    "collapsed": false,
    "pycharm": {
     "name": "#%%\n"
    }
   }
  },
  {
   "cell_type": "code",
   "execution_count": 6,
   "outputs": [
    {
     "name": "stdout",
     "output_type": "stream",
     "text": [
      "['add_atom',\n",
      " 'add_bond',\n",
      " 'add_chain',\n",
      " 'add_residue',\n",
      " 'atom',\n",
      " 'atoms',\n",
      " 'atoms_by_name',\n",
      " 'bonds',\n",
      " 'chain',\n",
      " 'chains',\n",
      " 'copy',\n",
      " 'create_disulfide_bonds',\n",
      " 'create_standard_bonds',\n",
      " 'delete_atom_by_index',\n",
      " 'find_molecules',\n",
      " 'from_dataframe',\n",
      " 'from_openmm',\n",
      " 'guess_anchor_molecules',\n",
      " 'insert_atom',\n",
      " 'join',\n",
      " 'n_atoms',\n",
      " 'n_bonds',\n",
      " 'n_chains',\n",
      " 'n_residues',\n",
      " 'residue',\n",
      " 'residues',\n",
      " 'select',\n",
      " 'select_atom_indices',\n",
      " 'select_expression',\n",
      " 'select_pairs',\n",
      " 'subset',\n",
      " 'to_bondgraph',\n",
      " 'to_dataframe',\n",
      " 'to_fasta',\n",
      " 'to_openmm']\n"
     ]
    }
   ],
   "source": [
    "topology = mdt.Topology()\n",
    "print_class_dir(topology)"
   ],
   "metadata": {
    "collapsed": false,
    "pycharm": {
     "name": "#%%\n"
    }
   }
  },
  {
   "cell_type": "code",
   "execution_count": 7,
   "outputs": [
    {
     "name": "stdout",
     "output_type": "stream",
     "text": [
      "['atom',\n",
      " 'atoms',\n",
      " 'atoms_by_name',\n",
      " 'index',\n",
      " 'n_atoms',\n",
      " 'n_residues',\n",
      " 'residue',\n",
      " 'residues',\n",
      " 'topology']\n"
     ]
    }
   ],
   "source": [
    "chain = topology.add_chain()\n",
    "print_class_dir(chain)"
   ],
   "metadata": {
    "collapsed": false,
    "pycharm": {
     "name": "#%%\n"
    }
   }
  },
  {
   "cell_type": "code",
   "execution_count": 9,
   "outputs": [
    {
     "name": "stdout",
     "output_type": "stream",
     "text": [
      "['atom',\n",
      " 'atoms',\n",
      " 'atoms_by_name',\n",
      " 'chain',\n",
      " 'code',\n",
      " 'index',\n",
      " 'is_nucleic',\n",
      " 'is_protein',\n",
      " 'is_water',\n",
      " 'n_atoms',\n",
      " 'name',\n",
      " 'resSeq',\n",
      " 'segment_id']\n"
     ]
    }
   ],
   "source": [
    "residue = topology.add_residue(name=\"ALA\", chain=chain)\n",
    "print_class_dir(residue)"
   ],
   "metadata": {
    "collapsed": false,
    "pycharm": {
     "name": "#%%\n"
    }
   }
  },
  {
   "cell_type": "code",
   "execution_count": 11,
   "outputs": [
    {
     "name": "stdout",
     "output_type": "stream",
     "text": [
      "Code A\n",
      "Name ALA\n",
      "Chain is of type <class 'mdtraj.core.topology.Chain'>\n"
     ]
    }
   ],
   "source": [
    "print(f\"Code {residue.code}\")\n",
    "print(f\"Name {residue.name}\")\n",
    "print(f\"Chain is of type {type(residue.chain)}\")"
   ],
   "metadata": {
    "collapsed": false,
    "pycharm": {
     "name": "#%%\n"
    }
   }
  },
  {
   "cell_type": "code",
   "execution_count": 12,
   "outputs": [
    {
     "name": "stdout",
     "output_type": "stream",
     "text": [
      "['element',\n",
      " 'index',\n",
      " 'is_backbone',\n",
      " 'is_sidechain',\n",
      " 'n_bonds',\n",
      " 'name',\n",
      " 'residue',\n",
      " 'segment_id',\n",
      " 'serial']\n"
     ]
    }
   ],
   "source": [
    "element = mdt.element.carbon\n",
    "atom = topology.add_atom(name=\"C\", element=element, residue=residue)\n",
    "print_class_dir(atom)"
   ],
   "metadata": {
    "collapsed": false,
    "pycharm": {
     "name": "#%%\n"
    }
   }
  },
  {
   "cell_type": "code",
   "execution_count": 16,
   "outputs": [
    {
     "name": "stdout",
     "output_type": "stream",
     "text": [
      "['atomic_number',\n",
      " 'count',\n",
      " 'getByAtomicNumber',\n",
      " 'getByMass',\n",
      " 'getBySymbol',\n",
      " 'index',\n",
      " 'mass',\n",
      " 'name',\n",
      " 'number',\n",
      " 'radius',\n",
      " 'symbol']\n"
     ]
    }
   ],
   "source": [
    "print_class_dir(element)"
   ],
   "metadata": {
    "collapsed": false,
    "pycharm": {
     "name": "#%%\n"
    }
   }
  },
  {
   "cell_type": "code",
   "execution_count": 18,
   "outputs": [],
   "source": [
    "element = mdt.element.hydrogen\n",
    "atom = topology.add_atom(name=\"H\", element=element, residue=residue)\n",
    "bond = topology.add_bond(\n",
    "    topology.atom(0),\n",
    "    topology.atom(1)\n",
    ")"
   ],
   "metadata": {
    "collapsed": false,
    "pycharm": {
     "name": "#%%\n"
    }
   }
  },
  {
   "cell_type": "code",
   "execution_count": 19,
   "outputs": [
    {
     "data": {
      "text/plain": "[Bond(ALA1-C, ALA1-H), Bond(ALA1-C, ALA1-H)]"
     },
     "execution_count": 19,
     "metadata": {},
     "output_type": "execute_result"
    }
   ],
   "source": [
    "bonds = list(topology.bonds)\n",
    "bonds"
   ],
   "metadata": {
    "collapsed": false,
    "pycharm": {
     "name": "#%%\n"
    }
   }
  },
  {
   "cell_type": "code",
   "execution_count": 20,
   "outputs": [
    {
     "name": "stdout",
     "output_type": "stream",
     "text": [
      "['atom1', 'atom2', 'count', 'index', 'order', 'type']\n"
     ]
    }
   ],
   "source": [
    "print_class_dir(bonds[0])"
   ],
   "metadata": {
    "collapsed": false,
    "pycharm": {
     "name": "#%%\n"
    }
   }
  },
  {
   "cell_type": "code",
   "execution_count": 21,
   "outputs": [
    {
     "data": {
      "text/plain": "  serial name element  resSeq resName  chainID segmentID\n0   None    C       C       1     ALA        0          \n1   None    H       H       1     ALA        0          \n2   None    H       H       1     ALA        0          ",
      "text/html": "<div>\n<style scoped>\n    .dataframe tbody tr th:only-of-type {\n        vertical-align: middle;\n    }\n\n    .dataframe tbody tr th {\n        vertical-align: top;\n    }\n\n    .dataframe thead th {\n        text-align: right;\n    }\n</style>\n<table border=\"1\" class=\"dataframe\">\n  <thead>\n    <tr style=\"text-align: right;\">\n      <th></th>\n      <th>serial</th>\n      <th>name</th>\n      <th>element</th>\n      <th>resSeq</th>\n      <th>resName</th>\n      <th>chainID</th>\n      <th>segmentID</th>\n    </tr>\n  </thead>\n  <tbody>\n    <tr>\n      <th>0</th>\n      <td>None</td>\n      <td>C</td>\n      <td>C</td>\n      <td>1</td>\n      <td>ALA</td>\n      <td>0</td>\n      <td></td>\n    </tr>\n    <tr>\n      <th>1</th>\n      <td>None</td>\n      <td>H</td>\n      <td>H</td>\n      <td>1</td>\n      <td>ALA</td>\n      <td>0</td>\n      <td></td>\n    </tr>\n    <tr>\n      <th>2</th>\n      <td>None</td>\n      <td>H</td>\n      <td>H</td>\n      <td>1</td>\n      <td>ALA</td>\n      <td>0</td>\n      <td></td>\n    </tr>\n  </tbody>\n</table>\n</div>"
     },
     "execution_count": 21,
     "metadata": {},
     "output_type": "execute_result"
    }
   ],
   "source": [
    "df, bonds = topology.to_dataframe()\n",
    "df"
   ],
   "metadata": {
    "collapsed": false,
    "pycharm": {
     "name": "#%%\n"
    }
   }
  }
 ],
 "metadata": {
  "kernelspec": {
   "display_name": "Python 3",
   "language": "python",
   "name": "python3"
  },
  "language_info": {
   "codemirror_mode": {
    "name": "ipython",
    "version": 2
   },
   "file_extension": ".py",
   "mimetype": "text/x-python",
   "name": "python",
   "nbconvert_exporter": "python",
   "pygments_lexer": "ipython2",
   "version": "2.7.6"
  }
 },
 "nbformat": 4,
 "nbformat_minor": 0
}