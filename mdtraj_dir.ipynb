{
 "cells": [
  {
   "cell_type": "code",
   "execution_count": 1,
   "metadata": {
    "collapsed": true,
    "pycharm": {
     "name": "#%%\n"
    }
   },
   "outputs": [],
   "source": [
    "import mdtraj as mdt\n",
    "import pprint"
   ]
  },
  {
   "cell_type": "code",
   "execution_count": 2,
   "outputs": [],
   "source": [
    "def print_class_dir(class_instance):\n",
    "    \"\"\" Prints the dir of the given object but only the\n",
    "        public methods and attributes.\n",
    "    \"\"\"\n",
    "    public_method_list = [method for method in dir(class_instance) if not method.startswith(\"_\")]\n",
    "    pprint.pprint(public_method_list)"
   ],
   "metadata": {
    "collapsed": false,
    "pycharm": {
     "name": "#%%\n"
    }
   }
  },
  {
   "cell_type": "code",
   "execution_count": 3,
   "outputs": [
    {
     "name": "stdout",
     "output_type": "stream",
     "text": [
      "Topology\n",
      "['add_atom',\n",
      " 'add_bond',\n",
      " 'add_chain',\n",
      " 'add_residue',\n",
      " 'atom',\n",
      " 'atoms',\n",
      " 'atoms_by_name',\n",
      " 'bonds',\n",
      " 'chain',\n",
      " 'chains',\n",
      " 'copy',\n",
      " 'create_disulfide_bonds',\n",
      " 'create_standard_bonds',\n",
      " 'delete_atom_by_index',\n",
      " 'find_molecules',\n",
      " 'from_dataframe',\n",
      " 'from_openmm',\n",
      " 'guess_anchor_molecules',\n",
      " 'insert_atom',\n",
      " 'join',\n",
      " 'n_atoms',\n",
      " 'n_bonds',\n",
      " 'n_chains',\n",
      " 'n_residues',\n",
      " 'residue',\n",
      " 'residues',\n",
      " 'select',\n",
      " 'select_atom_indices',\n",
      " 'select_expression',\n",
      " 'select_pairs',\n",
      " 'subset',\n",
      " 'to_bondgraph',\n",
      " 'to_dataframe',\n",
      " 'to_fasta',\n",
      " 'to_openmm']\n"
     ]
    }
   ],
   "source": [
    "topology = mdt.Topology()\n",
    "print(\"Topology\")\n",
    "print_class_dir(topology)"
   ],
   "metadata": {
    "collapsed": false,
    "pycharm": {
     "name": "#%%\n"
    }
   }
  },
  {
   "cell_type": "code",
   "execution_count": 4,
   "outputs": [
    {
     "name": "stdout",
     "output_type": "stream",
     "text": [
      "Chain\n",
      "['atom',\n",
      " 'atoms',\n",
      " 'atoms_by_name',\n",
      " 'index',\n",
      " 'n_atoms',\n",
      " 'n_residues',\n",
      " 'residue',\n",
      " 'residues',\n",
      " 'topology']\n"
     ]
    }
   ],
   "source": [
    "chain = topology.add_chain()\n",
    "print(\"Chain\")\n",
    "print_class_dir(chain)"
   ],
   "metadata": {
    "collapsed": false,
    "pycharm": {
     "name": "#%%\n"
    }
   }
  },
  {
   "cell_type": "code",
   "execution_count": 5,
   "outputs": [
    {
     "name": "stdout",
     "output_type": "stream",
     "text": [
      "Residue\n",
      "['atom',\n",
      " 'atoms',\n",
      " 'atoms_by_name',\n",
      " 'chain',\n",
      " 'code',\n",
      " 'index',\n",
      " 'is_nucleic',\n",
      " 'is_protein',\n",
      " 'is_water',\n",
      " 'n_atoms',\n",
      " 'name',\n",
      " 'resSeq',\n",
      " 'segment_id']\n"
     ]
    }
   ],
   "source": [
    "print(\"Residue\")\n",
    "residue = topology.add_residue(name=\"ALA\", chain=chain)\n",
    "print_class_dir(residue)"
   ],
   "metadata": {
    "collapsed": false,
    "pycharm": {
     "name": "#%%\n"
    }
   }
  },
  {
   "cell_type": "code",
   "execution_count": 6,
   "outputs": [
    {
     "name": "stdout",
     "output_type": "stream",
     "text": [
      "Code A\n",
      "Name ALA\n",
      "Chain is of type <class 'mdtraj.core.topology.Chain'>\n"
     ]
    }
   ],
   "source": [
    "print(f\"Code {residue.code}\")\n",
    "print(f\"Name {residue.name}\")\n",
    "print(f\"Chain is of type {type(residue.chain)}\")"
   ],
   "metadata": {
    "collapsed": false,
    "pycharm": {
     "name": "#%%\n"
    }
   }
  },
  {
   "cell_type": "code",
   "execution_count": 7,
   "outputs": [
    {
     "name": "stdout",
     "output_type": "stream",
     "text": [
      "Atom\n",
      "['element',\n",
      " 'index',\n",
      " 'is_backbone',\n",
      " 'is_sidechain',\n",
      " 'n_bonds',\n",
      " 'name',\n",
      " 'residue',\n",
      " 'segment_id',\n",
      " 'serial']\n"
     ]
    }
   ],
   "source": [
    "element = mdt.element.carbon\n",
    "atom = topology.add_atom(name=\"C\", element=element, residue=residue)\n",
    "print(\"Atom\")\n",
    "print_class_dir(atom)"
   ],
   "metadata": {
    "collapsed": false,
    "pycharm": {
     "name": "#%%\n"
    }
   }
  },
  {
   "cell_type": "code",
   "execution_count": 8,
   "outputs": [
    {
     "name": "stdout",
     "output_type": "stream",
     "text": [
      "ALA0\n"
     ]
    }
   ],
   "source": [
    "print(atom.residue)"
   ],
   "metadata": {
    "collapsed": false,
    "pycharm": {
     "name": "#%%\n"
    }
   }
  },
  {
   "cell_type": "code",
   "execution_count": 9,
   "outputs": [
    {
     "name": "stdout",
     "output_type": "stream",
     "text": [
      "Element:\n",
      "['atomic_number',\n",
      " 'count',\n",
      " 'getByAtomicNumber',\n",
      " 'getByMass',\n",
      " 'getBySymbol',\n",
      " 'index',\n",
      " 'mass',\n",
      " 'name',\n",
      " 'number',\n",
      " 'radius',\n",
      " 'symbol']\n"
     ]
    }
   ],
   "source": [
    "print(\"Element:\")\n",
    "print_class_dir(element)"
   ],
   "metadata": {
    "collapsed": false,
    "pycharm": {
     "name": "#%%\n"
    }
   }
  },
  {
   "cell_type": "code",
   "execution_count": 10,
   "outputs": [],
   "source": [
    "element = mdt.element.hydrogen\n",
    "atom = topology.add_atom(name=\"H\", element=element, residue=residue)\n",
    "bond = topology.add_bond(\n",
    "    topology.atom(0),\n",
    "    topology.atom(1)\n",
    ")"
   ],
   "metadata": {
    "collapsed": false,
    "pycharm": {
     "name": "#%%\n"
    }
   }
  },
  {
   "cell_type": "code",
   "execution_count": 11,
   "outputs": [
    {
     "data": {
      "text/plain": "[Bond(ALA0-C, ALA0-H)]"
     },
     "execution_count": 11,
     "metadata": {},
     "output_type": "execute_result"
    }
   ],
   "source": [
    "bonds = list(topology.bonds)\n",
    "bonds"
   ],
   "metadata": {
    "collapsed": false,
    "pycharm": {
     "name": "#%%\n"
    }
   }
  },
  {
   "cell_type": "code",
   "execution_count": 12,
   "outputs": [
    {
     "data": {
      "text/plain": "True"
     },
     "execution_count": 12,
     "metadata": {},
     "output_type": "execute_result"
    }
   ],
   "source": [
    "bonds[0].atom1.residue == bonds[0].atom2.residue"
   ],
   "metadata": {
    "collapsed": false,
    "pycharm": {
     "name": "#%%\n"
    }
   }
  },
  {
   "cell_type": "code",
   "execution_count": 13,
   "outputs": [
    {
     "name": "stdout",
     "output_type": "stream",
     "text": [
      "['atom1', 'atom2', 'count', 'index', 'order', 'type']\n"
     ]
    }
   ],
   "source": [
    "print_class_dir(bonds[0])"
   ],
   "metadata": {
    "collapsed": false,
    "pycharm": {
     "name": "#%%\n"
    }
   }
  },
  {
   "cell_type": "code",
   "execution_count": 14,
   "outputs": [
    {
     "name": "stdout",
     "output_type": "stream",
     "text": [
      "None\n",
      "None\n"
     ]
    }
   ],
   "source": [
    "print(bonds[0].type)\n",
    "print(bonds[0].order)"
   ],
   "metadata": {
    "collapsed": false,
    "pycharm": {
     "name": "#%%\n"
    }
   }
  },
  {
   "cell_type": "code",
   "execution_count": 15,
   "outputs": [
    {
     "data": {
      "text/plain": "  serial name element  resSeq resName  chainID segmentID\n0   None    C       C       0     ALA        0          \n1   None    H       H       0     ALA        0          ",
      "text/html": "<div>\n<style scoped>\n    .dataframe tbody tr th:only-of-type {\n        vertical-align: middle;\n    }\n\n    .dataframe tbody tr th {\n        vertical-align: top;\n    }\n\n    .dataframe thead th {\n        text-align: right;\n    }\n</style>\n<table border=\"1\" class=\"dataframe\">\n  <thead>\n    <tr style=\"text-align: right;\">\n      <th></th>\n      <th>serial</th>\n      <th>name</th>\n      <th>element</th>\n      <th>resSeq</th>\n      <th>resName</th>\n      <th>chainID</th>\n      <th>segmentID</th>\n    </tr>\n  </thead>\n  <tbody>\n    <tr>\n      <th>0</th>\n      <td>None</td>\n      <td>C</td>\n      <td>C</td>\n      <td>0</td>\n      <td>ALA</td>\n      <td>0</td>\n      <td></td>\n    </tr>\n    <tr>\n      <th>1</th>\n      <td>None</td>\n      <td>H</td>\n      <td>H</td>\n      <td>0</td>\n      <td>ALA</td>\n      <td>0</td>\n      <td></td>\n    </tr>\n  </tbody>\n</table>\n</div>"
     },
     "execution_count": 15,
     "metadata": {},
     "output_type": "execute_result"
    }
   ],
   "source": [
    "df, bonds = topology.to_dataframe()\n",
    "df"
   ],
   "metadata": {
    "collapsed": false,
    "pycharm": {
     "name": "#%%\n"
    }
   }
  },
  {
   "cell_type": "markdown",
   "source": [
    "## Load pdb files"
   ],
   "metadata": {
    "collapsed": false,
    "pycharm": {
     "name": "#%% md\n"
    }
   }
  },
  {
   "cell_type": "code",
   "execution_count": 16,
   "outputs": [],
   "source": [
    "traj_1sux = mdt.load(\"data/1sux.pdb\")\n",
    "traj_alanine = mdt.load(\"data/alanine.pdb\")"
   ],
   "metadata": {
    "collapsed": false,
    "pycharm": {
     "name": "#%%\n"
    }
   }
  },
  {
   "cell_type": "code",
   "execution_count": 17,
   "outputs": [
    {
     "name": "stdout",
     "output_type": "stream",
     "text": [
      "Alanine has 13 atoms with 12 bonds and 1 residues\n"
     ]
    }
   ],
   "source": [
    "topology_alanine = traj_alanine.topology\n",
    "print(f\"Alanine has {topology_alanine.n_atoms} atoms with {topology_alanine.n_bonds} bonds and {topology_alanine.n_residues} residues\")"
   ],
   "metadata": {
    "collapsed": false,
    "pycharm": {
     "name": "#%%\n"
    }
   }
  },
  {
   "cell_type": "code",
   "execution_count": 18,
   "outputs": [
    {
     "name": "stdout",
     "output_type": "stream",
     "text": [
      "(12, 4)\n"
     ]
    }
   ],
   "source": [
    "df_alanine, bonds_alanine = topology_alanine.to_dataframe()\n",
    "print(bonds_alanine.shape)"
   ],
   "metadata": {
    "collapsed": false,
    "pycharm": {
     "name": "#%%\n"
    }
   }
  },
  {
   "cell_type": "code",
   "execution_count": 19,
   "outputs": [
    {
     "name": "stdout",
     "output_type": "stream",
     "text": [
      "[Bond(ALA1-C1, ALA1-C2),\n",
      " Bond(ALA1-C1, ALA1-H),\n",
      " Bond(ALA1-C1, ALA1-H2),\n",
      " Bond(ALA1-C1, ALA1-H3),\n",
      " Bond(ALA1-C2, ALA1-C3),\n",
      " Bond(ALA1-C2, ALA1-N1),\n",
      " Bond(ALA1-C2, ALA1-H4),\n",
      " Bond(ALA1-C3, ALA1-O),\n",
      " Bond(ALA1-C3, ALA1-OXT),\n",
      " Bond(ALA1-OXT, ALA1-H5),\n",
      " Bond(ALA1-N1, ALA1-H6),\n",
      " Bond(ALA1-N1, ALA1-H7)]\n"
     ]
    }
   ],
   "source": [
    "alanine_bond_list = topology_alanine.bonds\n",
    "pprint.pprint(list(alanine_bond_list))"
   ],
   "metadata": {
    "collapsed": false,
    "pycharm": {
     "name": "#%%\n"
    }
   }
  },
  {
   "cell_type": "code",
   "execution_count": 20,
   "outputs": [
    {
     "data": {
      "text/plain": "True"
     },
     "execution_count": 20,
     "metadata": {},
     "output_type": "execute_result"
    }
   ],
   "source": [
    "all([b.atom1.residue == b.atom2.residue for b in alanine_bond_list])"
   ],
   "metadata": {
    "collapsed": false,
    "pycharm": {
     "name": "#%%\n"
    }
   }
  },
  {
   "cell_type": "code",
   "execution_count": 21,
   "outputs": [
    {
     "name": "stdout",
     "output_type": "stream",
     "text": [
      "1SUX has 4244 atoms with 3936 bonds\n"
     ]
    }
   ],
   "source": [
    "topology_1sux = traj_1sux.topology\n",
    "print(f\"1SUX has {topology_1sux.n_atoms} atoms with {topology_1sux.n_bonds} bonds\")"
   ],
   "metadata": {
    "collapsed": false,
    "pycharm": {
     "name": "#%%\n"
    }
   }
  },
  {
   "cell_type": "code",
   "execution_count": 22,
   "outputs": [
    {
     "name": "stdout",
     "output_type": "stream",
     "text": [
      "(3936, 4)\n"
     ]
    }
   ],
   "source": [
    "df_1sux, bonds_1sux = topology_1sux.to_dataframe()\n",
    "print(bonds_1sux.shape)"
   ],
   "metadata": {
    "collapsed": false,
    "pycharm": {
     "name": "#%%\n"
    }
   }
  },
  {
   "cell_type": "code",
   "execution_count": 23,
   "outputs": [],
   "source": [
    "def is_bond_iterator_ordered_by_residue(topology_):\n",
    "\n",
    "    residue_index = []\n",
    "    bonds_iterator = topology_.bonds\n",
    "\n",
    "    prev_index = next(bonds_iterator).atom1.residue.index\n",
    "    residue_index.append(prev_index)\n",
    "\n",
    "    for bond_ in bonds_iterator:\n",
    "        current_index = bond_.atom1.residue.index\n",
    "        if current_index != prev_index:\n",
    "            residue_index.append(current_index)\n",
    "        prev_index = current_index\n",
    "\n",
    "    # Now check it the given list is a sequence\n",
    "    prev_index = residue_index[0]\n",
    "    for index in residue_index[1:]:\n",
    "        if prev_index >= index:\n",
    "            return False\n",
    "\n",
    "    return True\n"
   ],
   "metadata": {
    "collapsed": false,
    "pycharm": {
     "name": "#%%\n"
    }
   }
  },
  {
   "cell_type": "code",
   "execution_count": 24,
   "outputs": [
    {
     "data": {
      "text/plain": "True"
     },
     "execution_count": 24,
     "metadata": {},
     "output_type": "execute_result"
    }
   ],
   "source": [
    "is_bond_iterator_ordered_by_residue(topology_1sux)"
   ],
   "metadata": {
    "collapsed": false,
    "pycharm": {
     "name": "#%%\n"
    }
   }
  }
 ],
 "metadata": {
  "kernelspec": {
   "display_name": "Python 3",
   "language": "python",
   "name": "python3"
  },
  "language_info": {
   "codemirror_mode": {
    "name": "ipython",
    "version": 2
   },
   "file_extension": ".py",
   "mimetype": "text/x-python",
   "name": "python",
   "nbconvert_exporter": "python",
   "pygments_lexer": "ipython2",
   "version": "2.7.6"
  }
 },
 "nbformat": 4,
 "nbformat_minor": 0
}