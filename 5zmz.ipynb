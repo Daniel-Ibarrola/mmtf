{
 "cells": [
  {
   "cell_type": "code",
   "execution_count": 1,
   "metadata": {
    "collapsed": true,
    "pycharm": {
     "name": "#%%\n"
    }
   },
   "outputs": [],
   "source": [
    "import mdtraj as mdt"
   ]
  },
  {
   "cell_type": "code",
   "execution_count": 2,
   "outputs": [
    {
     "name": "stdout",
     "output_type": "stream",
     "text": [
      "Num atoms: 31\n",
      "Num residues: 5\n",
      "Num chains: 2\n",
      "Num bonds: 29\n"
     ]
    }
   ],
   "source": [
    "traj = mdt.load(\"data/5zmz.pdb\")\n",
    "topology = traj.topology\n",
    "\n",
    "print(f\"Num atoms: {topology.n_atoms}\")\n",
    "print(f\"Num residues: {topology.n_residues}\")\n",
    "print(f\"Num chains: {topology.n_chains}\")\n",
    "print(f\"Num bonds: {topology.n_bonds}\")"
   ],
   "metadata": {
    "collapsed": false,
    "pycharm": {
     "name": "#%%\n"
    }
   }
  }
 ],
 "metadata": {
  "kernelspec": {
   "display_name": "Python 3",
   "language": "python",
   "name": "python3"
  },
  "language_info": {
   "codemirror_mode": {
    "name": "ipython",
    "version": 2
   },
   "file_extension": ".py",
   "mimetype": "text/x-python",
   "name": "python",
   "nbconvert_exporter": "python",
   "pygments_lexer": "ipython2",
   "version": "2.7.6"
  }
 },
 "nbformat": 4,
 "nbformat_minor": 0
}