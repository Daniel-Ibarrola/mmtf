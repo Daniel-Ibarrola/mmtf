{
 "cells": [
  {
   "cell_type": "code",
   "execution_count": 1,
   "metadata": {
    "collapsed": true,
    "pycharm": {
     "name": "#%%\n"
    }
   },
   "outputs": [],
   "source": [
    "import mdtraj as mdt"
   ]
  },
  {
   "cell_type": "code",
   "execution_count": 2,
   "outputs": [
    {
     "data": {
      "text/plain": "<mdtraj.Trajectory with 1 frames, 4244 atoms, 882 residues, and unitcells at 0x7fd66ae0a290>"
     },
     "execution_count": 2,
     "metadata": {},
     "output_type": "execute_result"
    }
   ],
   "source": [
    "traj = mdt.load(\"1sux.pdb\")\n",
    "traj"
   ],
   "metadata": {
    "collapsed": false,
    "pycharm": {
     "name": "#%%\n"
    }
   }
  },
  {
   "cell_type": "code",
   "execution_count": 4,
   "outputs": [
    {
     "data": {
      "text/plain": "   serial name element  resSeq resName  chainID segmentID\n0       1    N       N       2     ALA        0          \n1       2   CA       C       2     ALA        0          \n2       3    C       C       2     ALA        0          \n3       4    O       O       2     ALA        0          \n4       5   CB       C       2     ALA        0          \n5       6    N       N       3     SER        0          \n6       7   CA       C       3     SER        0          \n7       8    C       C       3     SER        0          \n8       9    O       O       3     SER        0          \n9      10   CB       C       3     SER        0          ",
      "text/html": "<div>\n<style scoped>\n    .dataframe tbody tr th:only-of-type {\n        vertical-align: middle;\n    }\n\n    .dataframe tbody tr th {\n        vertical-align: top;\n    }\n\n    .dataframe thead th {\n        text-align: right;\n    }\n</style>\n<table border=\"1\" class=\"dataframe\">\n  <thead>\n    <tr style=\"text-align: right;\">\n      <th></th>\n      <th>serial</th>\n      <th>name</th>\n      <th>element</th>\n      <th>resSeq</th>\n      <th>resName</th>\n      <th>chainID</th>\n      <th>segmentID</th>\n    </tr>\n  </thead>\n  <tbody>\n    <tr>\n      <th>0</th>\n      <td>1</td>\n      <td>N</td>\n      <td>N</td>\n      <td>2</td>\n      <td>ALA</td>\n      <td>0</td>\n      <td></td>\n    </tr>\n    <tr>\n      <th>1</th>\n      <td>2</td>\n      <td>CA</td>\n      <td>C</td>\n      <td>2</td>\n      <td>ALA</td>\n      <td>0</td>\n      <td></td>\n    </tr>\n    <tr>\n      <th>2</th>\n      <td>3</td>\n      <td>C</td>\n      <td>C</td>\n      <td>2</td>\n      <td>ALA</td>\n      <td>0</td>\n      <td></td>\n    </tr>\n    <tr>\n      <th>3</th>\n      <td>4</td>\n      <td>O</td>\n      <td>O</td>\n      <td>2</td>\n      <td>ALA</td>\n      <td>0</td>\n      <td></td>\n    </tr>\n    <tr>\n      <th>4</th>\n      <td>5</td>\n      <td>CB</td>\n      <td>C</td>\n      <td>2</td>\n      <td>ALA</td>\n      <td>0</td>\n      <td></td>\n    </tr>\n    <tr>\n      <th>5</th>\n      <td>6</td>\n      <td>N</td>\n      <td>N</td>\n      <td>3</td>\n      <td>SER</td>\n      <td>0</td>\n      <td></td>\n    </tr>\n    <tr>\n      <th>6</th>\n      <td>7</td>\n      <td>CA</td>\n      <td>C</td>\n      <td>3</td>\n      <td>SER</td>\n      <td>0</td>\n      <td></td>\n    </tr>\n    <tr>\n      <th>7</th>\n      <td>8</td>\n      <td>C</td>\n      <td>C</td>\n      <td>3</td>\n      <td>SER</td>\n      <td>0</td>\n      <td></td>\n    </tr>\n    <tr>\n      <th>8</th>\n      <td>9</td>\n      <td>O</td>\n      <td>O</td>\n      <td>3</td>\n      <td>SER</td>\n      <td>0</td>\n      <td></td>\n    </tr>\n    <tr>\n      <th>9</th>\n      <td>10</td>\n      <td>CB</td>\n      <td>C</td>\n      <td>3</td>\n      <td>SER</td>\n      <td>0</td>\n      <td></td>\n    </tr>\n  </tbody>\n</table>\n</div>"
     },
     "execution_count": 4,
     "metadata": {},
     "output_type": "execute_result"
    }
   ],
   "source": [
    "df, bonds = traj.topology.to_dataframe()\n",
    "df.head(10)"
   ],
   "metadata": {
    "collapsed": false,
    "pycharm": {
     "name": "#%%\n"
    }
   }
  },
  {
   "cell_type": "code",
   "execution_count": 5,
   "outputs": [
    {
     "data": {
      "text/plain": "array(['ALA', 'SER', 'LYS', 'PRO', 'GLN', 'ILE', 'ASN', 'TRP', 'CYS',\n       'GLY', 'GLU', 'LEU', 'VAL', 'THR', 'PHE', 'ASP', 'HIS', 'MET',\n       'ARG', 'TYR', 'SO4', 'BTS', 'HOH'], dtype=object)"
     },
     "execution_count": 5,
     "metadata": {},
     "output_type": "execute_result"
    }
   ],
   "source": [
    "df['resName'].unique()"
   ],
   "metadata": {
    "collapsed": false,
    "pycharm": {
     "name": "#%%\n"
    }
   }
  }
 ],
 "metadata": {
  "kernelspec": {
   "display_name": "Python 3",
   "language": "python",
   "name": "python3"
  },
  "language_info": {
   "codemirror_mode": {
    "name": "ipython",
    "version": 2
   },
   "file_extension": ".py",
   "mimetype": "text/x-python",
   "name": "python",
   "nbconvert_exporter": "python",
   "pygments_lexer": "ipython2",
   "version": "2.7.6"
  }
 },
 "nbformat": 4,
 "nbformat_minor": 0
}